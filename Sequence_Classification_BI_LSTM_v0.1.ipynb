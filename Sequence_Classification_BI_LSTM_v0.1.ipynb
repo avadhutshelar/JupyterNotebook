{
 "cells": [
  {
   "cell_type": "markdown",
   "metadata": {},
   "source": [
    "# LSTM Sequence Classification\n",
    "Reference: https://towardsdatascience.com/word-bags-vs-word-sequences-for-text-classification-e0222c21d2ec"
   ]
  },
  {
   "cell_type": "markdown",
   "metadata": {},
   "source": [
    "Import Libraries:"
   ]
  },
  {
   "cell_type": "code",
   "execution_count": 1,
   "metadata": {},
   "outputs": [
    {
     "name": "stderr",
     "output_type": "stream",
     "text": [
      "Using TensorFlow backend.\n"
     ]
    },
    {
     "name": "stdout",
     "output_type": "stream",
     "text": [
      "Tensor Flow Version:  2.2.0-rc2\n"
     ]
    }
   ],
   "source": [
    "import numpy as np\n",
    "import os\n",
    "import time\n",
    "from datetime import datetime\n",
    "import pandas as pd\n",
    "import json\n",
    "import re\n",
    "from sklearn.metrics import classification_report, confusion_matrix\n",
    "from sklearn.model_selection import StratifiedShuffleSplit\n",
    "import random as rn\n",
    "import keras\n",
    "import tensorflow as tf\n",
    "os.environ['TF_CPP_MIN_LOG_LEVEL']='2'\n",
    "\n",
    "startTime = time.time()\n",
    "print(\"Tensor Flow Version: \",tf.__version__)"
   ]
  },
  {
   "cell_type": "code",
   "execution_count": 2,
   "metadata": {},
   "outputs": [],
   "source": [
    "#All this for reproducibility\n",
    "np.random.seed(1)\n",
    "rn.seed(1)\n",
    "tf.random.set_seed(1)\n",
    "tf.config.threading.set_intra_op_parallelism_threads(5)\n",
    "tf.config.threading.set_inter_op_parallelism_threads(25)"
   ]
  },
  {
   "cell_type": "code",
   "execution_count": 3,
   "metadata": {},
   "outputs": [
    {
     "name": "stdout",
     "output_type": "stream",
     "text": [
      "Max sequence length: 1502\n"
     ]
    }
   ],
   "source": [
    "# Build the corpus and sequences\n",
    "labelToName = { 0 : 'Rejected', 1 : 'Allowed' }\n",
    "namesInLabelOrder = ['Rejected', 'Allowed']\n",
    "os.chdir('D:\\\\PhD\\\\Dataset')\n",
    "df=pd.read_csv('CriminalBailApplication.csv')\n",
    "X=df.text.tolist()\n",
    "labels=df.loc[:,['label']]\n",
    "\n",
    "\n",
    "def preprocess(temp):\n",
    "    temp=re.sub(\"\\s\\s+\",\" \",temp)    #Replacing multiple spaces with one\n",
    "    temp=temp.replace(u'\\xa0', ' ').encode('utf-8')  #Replacing non-breaking space    \n",
    "    temp=temp.decode().split(' ')    #Converting a string into list of words seperated by space charcter\n",
    "    return temp\n",
    "\n",
    "#print(X[1])\n",
    "X = [preprocess(t) for t in X]  \n",
    "#print(\"\\n\\n\\n After Preprocess:\\n\\n\",X[1])\n",
    "\n",
    "\n",
    "sss = StratifiedShuffleSplit(n_splits=1, test_size=0.2, random_state=1).split(X, labels)\n",
    "train_indices, test_indices = next(sss)\n",
    "\n",
    "\n",
    "def seqlengths(l):\n",
    "    if isinstance(l,list):\n",
    "        yield len(l)\n",
    "        for y in l:\n",
    "            yield from seqlengths(y)\n",
    "\n",
    "maxsequenceLength=max(seqlengths(X))\n",
    "print(\"Max sequence length:\",maxsequenceLength)\n"
   ]
  },
  {
   "cell_type": "code",
   "execution_count": 4,
   "metadata": {},
   "outputs": [
    {
     "name": "stdout",
     "output_type": "stream",
     "text": [
      "Shape Before Padding: (782,)\n",
      "\n",
      "Shape After Padding: (1502,)\n",
      "\n",
      " nWords: 8793\n"
     ]
    }
   ],
   "source": [
    "# Encode the documents\n",
    "kTokenizer = keras.preprocessing.text.Tokenizer() \n",
    "kTokenizer.fit_on_texts(X)\n",
    "\n",
    "#print(\"Tokanizer:\\n\",kTokenizer.word_index)\n",
    "\n",
    "#print(\"Before Encoding:\\n\",X[230])\n",
    "Xencoded = np.array([np.array(xi) for xi in kTokenizer.texts_to_sequences(X)])                \n",
    "#print(\"After Encoding:\\n\",Xencoded[230])\n",
    "\n",
    "print(\"Shape Before Padding:\",np.shape(Xencoded[22]))\n",
    "Xencoded=keras.preprocessing.sequence.pad_sequences(Xencoded, maxlen=maxsequenceLength, truncating='post')\n",
    "print(\"\\nShape After Padding:\",np.shape(Xencoded[22]))\n",
    "\n",
    "labels = np.array(labels)\n",
    "\n",
    "nWords=len(kTokenizer.word_index)\n",
    "print(\"\\n nWords:\",nWords)"
   ]
  },
  {
   "cell_type": "code",
   "execution_count": 5,
   "metadata": {},
   "outputs": [],
   "source": [
    "# Build the LSTM model\n",
    "def getModel():\n",
    "    units1, units2 = int (nWords/4), int (nWords/8)\n",
    "    model = keras.models.Sequential()\n",
    "    model.add(keras.layers.embeddings.Embedding(input_dim = nWords+1,output_dim=units1,input_length=maxsequenceLength, trainable=True))               \n",
    "    model.add(keras.layers.Bidirectional(keras.layers.LSTM(units = units2, return_sequences =False),input_shape=(units2/2,len(labelToName))))\n",
    "    model.add(keras.layers.Dense(len(labelToName), activation ='sigmoid'))                           \n",
    "    model.compile(optimizer='adam', loss = 'categorical_crossentropy', metrics=['acc'])\n",
    "    return model"
   ]
  },
  {
   "cell_type": "code",
   "execution_count": 6,
   "metadata": {},
   "outputs": [],
   "source": [
    "train_x = Xencoded[train_indices]\n",
    "test_x = Xencoded[test_indices]\n",
    "train_labels = keras.utils.to_categorical(labels[train_indices], len(labelToName))\n",
    "test_labels = keras.utils.to_categorical(labels[test_indices], len(labelToName))"
   ]
  },
  {
   "cell_type": "code",
   "execution_count": null,
   "metadata": {},
   "outputs": [
    {
     "name": "stdout",
     "output_type": "stream",
     "text": [
      "Model: \"sequential_1\"\n",
      "_________________________________________________________________\n",
      "Layer (type)                 Output Shape              Param #   \n",
      "=================================================================\n",
      "embedding_1 (Embedding)      (None, 1502, 2198)        19329212  \n",
      "_________________________________________________________________\n",
      "bidirectional_1 (Bidirection (None, 2198)              28996016  \n",
      "_________________________________________________________________\n",
      "dense_1 (Dense)              (None, 2)                 4398      \n",
      "=================================================================\n",
      "Total params: 48,329,626\n",
      "Trainable params: 48,329,626\n",
      "Non-trainable params: 0\n",
      "_________________________________________________________________\n"
     ]
    },
    {
     "name": "stderr",
     "output_type": "stream",
     "text": [
      "c:\\users\\admin\\appdata\\local\\programs\\python\\python38\\lib\\site-packages\\tensorflow\\python\\framework\\indexed_slices.py:433: UserWarning: Converting sparse IndexedSlices to a dense Tensor of unknown shape. This may consume a large amount of memory.\n",
      "  warnings.warn(\n"
     ]
    },
    {
     "name": "stdout",
     "output_type": "stream",
     "text": [
      "Train on 210 samples, validate on 53 samples\n",
      "Epoch 1/50\n",
      " - 1814s - loss: 0.7970 - acc: 0.7286 - val_loss: 0.5237 - val_acc: 0.7736\n",
      "Epoch 2/50\n",
      " - 1974s - loss: 0.4668 - acc: 0.8143 - val_loss: 0.4239 - val_acc: 0.7736\n",
      "Epoch 3/50\n",
      " - 2039s - loss: 0.1262 - acc: 0.9619 - val_loss: 0.3437 - val_acc: 0.8491\n",
      "Epoch 4/50\n",
      " - 2044s - loss: 0.0227 - acc: 0.9952 - val_loss: 0.3745 - val_acc: 0.8679\n",
      "Epoch 5/50\n",
      " - 2225s - loss: 0.0020 - acc: 1.0000 - val_loss: 0.3668 - val_acc: 0.8868\n",
      "Epoch 6/50\n",
      " - 2269s - loss: 0.0012 - acc: 1.0000 - val_loss: 0.3678 - val_acc: 0.9057\n",
      "Epoch 7/50\n",
      " - 2322s - loss: 2.5866e-04 - acc: 1.0000 - val_loss: 0.5128 - val_acc: 0.9057\n",
      "Epoch 8/50\n",
      " - 2339s - loss: 8.5435e-05 - acc: 1.0000 - val_loss: 0.4608 - val_acc: 0.9057\n",
      "Epoch 00008: early stopping\n",
      "\n",
      "test_loss: 0.4243371795384905 \n",
      "test_accuracy: 0.9242424368858337\n",
      "\n",
      "\n",
      "Confusion Matrix:\n",
      " [[49  2]\n",
      " [ 3 12]]\n",
      "\n",
      "\n",
      "Classification Report:\n",
      "\n",
      "               precision    recall  f1-score   support\n",
      "\n",
      "    Rejected     0.9423    0.9608    0.9515        51\n",
      "     Allowed     0.8571    0.8000    0.8276        15\n",
      "\n",
      "    accuracy                         0.9242        66\n",
      "   macro avg     0.8997    0.8804    0.8895        66\n",
      "weighted avg     0.9230    0.9242    0.9233        66\n",
      "\n",
      "Model: \"sequential_2\"\n",
      "_________________________________________________________________\n",
      "Layer (type)                 Output Shape              Param #   \n",
      "=================================================================\n",
      "embedding_2 (Embedding)      (None, 1502, 2198)        19329212  \n",
      "_________________________________________________________________\n",
      "bidirectional_2 (Bidirection (None, 2198)              28996016  \n",
      "_________________________________________________________________\n",
      "dense_2 (Dense)              (None, 2)                 4398      \n",
      "=================================================================\n",
      "Total params: 48,329,626\n",
      "Trainable params: 48,329,626\n",
      "Non-trainable params: 0\n",
      "_________________________________________________________________\n",
      "Train on 210 samples, validate on 53 samples\n",
      "Epoch 1/50\n",
      " - 2341s - loss: 0.5587 - acc: 0.7000 - val_loss: 0.4334 - val_acc: 0.7736\n",
      "Epoch 2/50\n",
      " - 2367s - loss: 0.4086 - acc: 0.7810 - val_loss: 0.3132 - val_acc: 0.8679\n",
      "Epoch 3/50\n",
      " - 2438s - loss: 0.1736 - acc: 0.9381 - val_loss: 1.1578 - val_acc: 0.8113\n",
      "Epoch 4/50\n",
      " - 2812s - loss: 0.3160 - acc: 0.8476 - val_loss: 0.3640 - val_acc: 0.8679\n",
      "Epoch 5/50\n",
      " - 2975s - loss: 0.2750 - acc: 0.8905 - val_loss: 0.2840 - val_acc: 0.9057\n",
      "Epoch 6/50\n",
      " - 2990s - loss: 0.0982 - acc: 0.9810 - val_loss: 0.2887 - val_acc: 0.8679\n",
      "Epoch 7/50\n",
      " - 3088s - loss: 0.0463 - acc: 0.9857 - val_loss: 0.2337 - val_acc: 0.9057\n",
      "Epoch 8/50\n",
      " - 3173s - loss: 0.0139 - acc: 1.0000 - val_loss: 0.2283 - val_acc: 0.9057\n",
      "Epoch 9/50\n",
      " - 3357s - loss: 0.0179 - acc: 0.9952 - val_loss: 0.1736 - val_acc: 0.9245\n",
      "Epoch 10/50\n",
      " - 4028s - loss: 0.0088 - acc: 0.9952 - val_loss: 0.1567 - val_acc: 0.9434\n",
      "Epoch 11/50\n"
     ]
    }
   ],
   "source": [
    "# Train and test over multiple train/validation sets\n",
    "early_stop = keras.callbacks.EarlyStopping(monitor='val_loss', min_delta=0, patience=5, verbose=2, mode='auto', restore_best_weights=False)                         \n",
    "sss2 = StratifiedShuffleSplit(n_splits=10, test_size=0.2, random_state=1).split(train_x, train_labels)          \n",
    "results={}\n",
    "for i in range(2):\n",
    "    train_indices_2, val_indices = next(sss2)\n",
    "    model = getModel()\n",
    "    model.summary()\n",
    "    history=model.fit(x=train_x[train_indices_2], y=train_labels[train_indices_2], epochs=50, batch_size=32, shuffle=True, validation_data = (train_x[val_indices], train_labels[val_indices]), verbose=2, callbacks=[early_stop], use_multiprocessing=True)\n",
    "    test_loss, test_accuracy = model.evaluate(test_x, test_labels, verbose=2)                                \n",
    "    print (\"\\ntest_loss:\",test_loss, \"\\ntest_accuracy:\",test_accuracy)\n",
    "    predicted = model.predict(test_x, verbose=2)\n",
    "    predicted_labels = predicted.argmax(axis=1)        \n",
    "    print (\"\\n\\nConfusion Matrix:\\n\",confusion_matrix(labels[test_indices], predicted_labels))\n",
    "    print (\"\\n\\nClassification Report:\\n\\n\",classification_report(labels[test_indices], predicted_labels, digits=4, target_names=namesInLabelOrder))\n",
    "    result={}\n",
    "    result['confusion_matrix'] = confusion_matrix(labels[test_indices], predicted_labels).tolist()\n",
    "    result['classification_report'] = classification_report(labels[test_indices], predicted_labels, digits=4, target_names=namesInLabelOrder, output_dict=True)\n",
    "    results[i] = result\n",
    "os.chdir('D:\\\\PhD\\\\Dataset\\\\Results')\n",
    "filename = 'LSTM-'+time.strftime(\"%d-%m-%Y-%H-%M-%S\")+'.json'\n",
    "f = open (filename,'w')\n",
    "out = json.dumps(results, ensure_ascii=True)\n",
    "f.write(out)\n",
    "f.close()\n",
    "\n",
    "endTime = time.time()\n",
    "hours, rem = divmod(endTime-startTime, 3600)\n",
    "minutes, seconds = divmod(rem, 60)\n",
    "print(\"\\n\\nTotal time taken: \")\n",
    "print(\"{:0>2}:{:0>2}:{:05.2f}\".format(int(hours),int(minutes),seconds))"
   ]
  },
  {
   "cell_type": "code",
   "execution_count": null,
   "metadata": {},
   "outputs": [],
   "source": [
    "tempresults=results\n",
    "result={}\n",
    "results={}\n",
    "print(confusion_matrix(labels[test_indices], predicted_labels))\n",
    "print(classification_report(labels[test_indices], predicted_labels, digits=4, target_names=namesInLabelOrder))\n",
    "\n",
    "result['confusion_matrix'] = confusion_matrix(labels[test_indices], predicted_labels).tolist()\n",
    "result['classification_report'] = classification_report(labels[test_indices], predicted_labels, digits=4, target_names=namesInLabelOrder, output_dict=True)\n",
    "results[0] = result\n",
    "\n",
    "os.chdir('D:\\\\PhD\\\\Dataset\\\\Results')\n",
    "filename = 'BI_LSTM-'+time.strftime(\"%d-%m-%Y-%H-%M-%S\")+'.json'\n",
    "f = open (filename,'w')\n",
    "out = json.dumps(results, ensure_ascii=True, indent=4)\n",
    "f.write(out)\n",
    "f.close()"
   ]
  },
  {
   "cell_type": "code",
   "execution_count": null,
   "metadata": {},
   "outputs": [],
   "source": [
    "print(len(history.history['acc']))\n",
    "print(len(history.history['val_acc']))\n",
    "print(len(history.history['loss']))\n",
    "print(len(history.history['val_loss']))\n",
    "print(len(history.history['acc']))"
   ]
  },
  {
   "cell_type": "code",
   "execution_count": null,
   "metadata": {},
   "outputs": [],
   "source": [
    "import matplotlib.pyplot as plt\n",
    "fig = plt.figure(figsize=(8,6))\n",
    "subplot = fig.add_subplot(1, 1, 1)\n",
    "\n",
    "loss_train = history.history['loss']\n",
    "loss_val = history.history['val_loss']\n",
    "\n",
    "acc_train = history.history['acc']\n",
    "acc_val = history.history['val_acc']\n",
    "\n",
    "epochs = range(0,len(history.history['val_acc']))\n",
    "\n",
    "subplot.plot(epochs,acc_val,color='g', label='Validation')\n",
    "subplot.plot(epochs,loss_val,color='g')\n",
    "subplot.plot(epochs,acc_train,color='b')\n",
    "subplot.plot(epochs,loss_train,color='b', label='Training')\n",
    "\n",
    "plt.title('Convergence')\n",
    "plt.xlabel('Epochs')\n",
    "#subplot.legend(loc='upper left', prop={'size': 9})\n",
    "plt.legend()\n",
    "plt.show()"
   ]
  },
  {
   "cell_type": "code",
   "execution_count": null,
   "metadata": {},
   "outputs": [],
   "source": [
    "loss_train = history.history['acc']\n",
    "loss_val = history.history['val_acc']\n",
    "epochs = range(0,len(history.history['val_acc']))\n",
    "plt.plot(epochs, loss_train, 'g', label='Training accuracy')\n",
    "plt.plot(epochs, loss_val, 'b', label='validation accuracy')\n",
    "plt.title('Training and Validation accuracy')\n",
    "plt.xlabel('Epochs')\n",
    "plt.ylabel('Accuracy')\n",
    "plt.legend()\n",
    "plt.show()"
   ]
  },
  {
   "cell_type": "code",
   "execution_count": null,
   "metadata": {},
   "outputs": [],
   "source": [
    "loss_train = history.history['loss']\n",
    "loss_val = history.history['val_loss']\n",
    "epochs = range(0,len(history.history['val_loss']))\n",
    "plt.plot(epochs, loss_train, 'g', label='Training loss')\n",
    "plt.plot(epochs, loss_val, 'b', label='validation loss')\n",
    "plt.title('Training and Validation loss')\n",
    "plt.xlabel('Epochs')\n",
    "plt.ylabel('Loss')\n",
    "plt.legend()\n",
    "plt.show()"
   ]
  }
 ],
 "metadata": {
  "kernelspec": {
   "display_name": "Python 3",
   "language": "python",
   "name": "python3"
  },
  "language_info": {
   "codemirror_mode": {
    "name": "ipython",
    "version": 3
   },
   "file_extension": ".py",
   "mimetype": "text/x-python",
   "name": "python",
   "nbconvert_exporter": "python",
   "pygments_lexer": "ipython3",
   "version": "3.8.0"
  }
 },
 "nbformat": 4,
 "nbformat_minor": 4
}
