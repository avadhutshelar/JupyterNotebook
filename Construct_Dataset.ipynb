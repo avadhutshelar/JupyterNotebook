{
 "cells": [
  {
   "cell_type": "code",
   "execution_count": 54,
   "metadata": {},
   "outputs": [],
   "source": [
    "import os,re\n",
    "import pandas as pd\n",
    "import numpy as np\n",
    "import keras"
   ]
  },
  {
   "cell_type": "code",
   "execution_count": 55,
   "metadata": {},
   "outputs": [],
   "source": [
    "# Build the corpus and sequences\n",
    "os.chdir('D:\\\\PhD\\\\Dataset')\n",
    "\n",
    "df=pd.read_csv('CriminalBailApplication.csv')\n",
    "X=df.text.tolist()\n",
    "labels=df.loc[:,['label']]\n",
    "\n",
    "\n",
    "def preprocess(temp):\n",
    "    temp=re.sub(\"\\s\\s+\",\" \",temp)    #Replacing multiple spaces with one\n",
    "    temp=temp.replace(u'\\xa0', ' ').encode('utf-8')  #Replacing non-breaking space    \n",
    "    temp=temp.decode().split(' ')    #Converting a string into list of words seperated by space charcter    \n",
    "    return temp\n",
    "\n",
    "#print(\"\\n Before Preprocess:\\n\\n\",X)\n",
    "X = [preprocess(t) for t in X]  \n",
    "#print(\"\\n\\n\\n After Preprocess:\\n\\n\",X)"
   ]
  },
  {
   "cell_type": "code",
   "execution_count": 56,
   "metadata": {},
   "outputs": [
    {
     "name": "stdout",
     "output_type": "stream",
     "text": [
      "Max sequence length: 1503\n"
     ]
    }
   ],
   "source": [
    "def seqlengths(l):\n",
    "    if isinstance(l,list):\n",
    "        yield len(l)\n",
    "        for y in l:\n",
    "            yield from seqlengths(y)\n",
    "\n",
    "maxsequenceLength=max(seqlengths(X))\n",
    "print(\"Max sequence length:\",maxsequenceLength)"
   ]
  },
  {
   "cell_type": "code",
   "execution_count": 57,
   "metadata": {},
   "outputs": [
    {
     "name": "stdout",
     "output_type": "stream",
     "text": [
      "Shape of Text Before Padding: (387,)\n",
      "\n",
      "Shape of Text After Padding: (387, 1503)\n",
      "\n",
      "Shape of Labels: (387, 1)\n",
      "\n",
      "No of unique Words: 10203\n"
     ]
    }
   ],
   "source": [
    "# Encode the documents\n",
    "kTokenizer = keras.preprocessing.text.Tokenizer() \n",
    "kTokenizer.fit_on_texts(X)\n",
    "\n",
    "#print(\"Tokanizer:\\n\",kTokenizer.word_index)\n",
    "\n",
    "#print(\"Before Encoding:\\n\",X[230])\n",
    "Xencoded = np.array([np.array(xi) for xi in kTokenizer.texts_to_sequences(X)])                \n",
    "#print(\"After Encoding:\\n\",Xencoded[230])\n",
    "\n",
    "\n",
    "print(\"Shape of Text Before Padding:\",np.shape(Xencoded))\n",
    "Xencoded=keras.preprocessing.sequence.pad_sequences(Xencoded, maxlen=maxsequenceLength, truncating='post')\n",
    "print(\"\\nShape of Text After Padding:\",np.shape(Xencoded))\n",
    "\n",
    "\n",
    "labels = np.array(labels)\n",
    "print(\"\\nShape of Labels:\",np.shape(labels))\n",
    "\n",
    "nWords=len(kTokenizer.word_index)\n",
    "#print(kTokenizer.word_index)\n",
    "print(\"\\nNo of unique Words:\",nWords)"
   ]
  },
  {
   "cell_type": "code",
   "execution_count": 58,
   "metadata": {},
   "outputs": [
    {
     "name": "stdout",
     "output_type": "stream",
     "text": [
      "\n",
      "Before Saving : [   0    0    0 ...  358 1575    0]\n",
      "\n",
      "Test Read After Saving : [   0.    0.    0. ...  358. 1575.    0.]\n"
     ]
    }
   ],
   "source": [
    "#Writing Encoded data to CSV file\n",
    "\n",
    "os.chdir('D:\\\\PhD\\\\Dataset')\n",
    "toSave=np.concatenate((Xencoded, labels), axis=1)\n",
    "print(\"\\nBefore Saving :\",toSave[1])\n",
    "np.savetxt('EncodedCriminalBailApplication.csv', toSave, delimiter=',')\n",
    "\n",
    "\n",
    "#Testing Read\n",
    "encodedReadTest = np.loadtxt('EncodedCriminalBailApplication.csv', delimiter=',')\n",
    "# print the array\n",
    "print(\"\\nTest Read After Saving :\",encodedReadTest[1])"
   ]
  }
 ],
 "metadata": {
  "kernelspec": {
   "display_name": "Python 3",
   "language": "python",
   "name": "python3"
  },
  "language_info": {
   "codemirror_mode": {
    "name": "ipython",
    "version": 3
   },
   "file_extension": ".py",
   "mimetype": "text/x-python",
   "name": "python",
   "nbconvert_exporter": "python",
   "pygments_lexer": "ipython3",
   "version": "3.8.0"
  }
 },
 "nbformat": 4,
 "nbformat_minor": 4
}
