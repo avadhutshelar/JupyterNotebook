{
 "cells": [
  {
   "cell_type": "code",
   "execution_count": 2,
   "metadata": {},
   "outputs": [],
   "source": [
    "import string\n",
    "from nltk.tokenize import word_tokenize\n",
    "from nltk.corpus import stopwords\n",
    "import gensim\n",
    "import os,re\n",
    "import pandas as pd"
   ]
  },
  {
   "cell_type": "code",
   "execution_count": 3,
   "metadata": {},
   "outputs": [
    {
     "name": "stdout",
     "output_type": "stream",
     "text": [
      "(387, 2)\n"
     ]
    }
   ],
   "source": [
    "os.chdir('D:\\\\PhD\\\\Dataset')\n",
    "\n",
    "df=pd.read_csv('CriminalBailApplication.csv')\n",
    "print(df.shape)\n",
    "lines=df.text.tolist()\n",
    "text_lines=list()"
   ]
  },
  {
   "cell_type": "code",
   "execution_count": 4,
   "metadata": {},
   "outputs": [
    {
     "data": {
      "text/plain": [
       "387"
      ]
     },
     "execution_count": 4,
     "metadata": {},
     "output_type": "execute_result"
    }
   ],
   "source": [
    "for line in lines:\n",
    "    tokens = word_tokenize(line)\n",
    "    #convert to lower case\n",
    "    tokens = [w.lower() for w in tokens]\n",
    "    #remove punctuations from each word\n",
    "    table = str.maketrans('','',string.punctuation)\n",
    "    stripped = [w.translate(table) for w in tokens]\n",
    "    #remove non alpahbetic tokens\n",
    "    words = [w for w in stripped if w.isalpha()]\n",
    "    #filter out stop words\n",
    "    stop_words=set(stopwords.words('english'))\n",
    "    words=[w for w in words if not w in stop_words]\n",
    "    text_lines.append(words)\n",
    "    \n",
    "len(text_lines)"
   ]
  },
  {
   "cell_type": "code",
   "execution_count": 5,
   "metadata": {},
   "outputs": [],
   "source": [
    "EMBEDDING_DIM=200"
   ]
  },
  {
   "cell_type": "code",
   "execution_count": 6,
   "metadata": {},
   "outputs": [
    {
     "name": "stdout",
     "output_type": "stream",
     "text": [
      "Vocabulary size : 5901\n"
     ]
    }
   ],
   "source": [
    "#Train W2V model\n",
    "model = gensim.models.Word2Vec(sentences=text_lines, size=EMBEDDING_DIM, window=10,workers=4, min_count=1)\n",
    "#Vocab size\n",
    "words = list(model.wv.vocab)\n",
    "print(\"Vocabulary size : %d\"%len(words))"
   ]
  },
  {
   "cell_type": "code",
   "execution_count": 7,
   "metadata": {},
   "outputs": [
    {
     "data": {
      "text/plain": [
       "['applicant',\n",
       " 'accused',\n",
       " 'bail',\n",
       " 'application',\n",
       " 'applicants',\n",
       " 'police',\n",
       " 'section',\n",
       " 'offence',\n",
       " 'informant',\n",
       " 'therefore']"
      ]
     },
     "execution_count": 7,
     "metadata": {},
     "output_type": "execute_result"
    }
   ],
   "source": [
    "model.wv.index2entity[:10]"
   ]
  },
  {
   "cell_type": "code",
   "execution_count": 12,
   "metadata": {},
   "outputs": [
    {
     "data": {
      "text/plain": [
       "[('cr', 0.9988135099411011),\n",
       " ('code', 0.9983803033828735),\n",
       " ('seeks', 0.9975295066833496),\n",
       " ('chaturshringi', 0.997397780418396),\n",
       " ('n', 0.9973359107971191),\n",
       " ('c', 0.9966704845428467),\n",
       " ('rw', 0.9952273368835449),\n",
       " ('ipc', 0.9943055510520935),\n",
       " ('respect', 0.9942413568496704),\n",
       " ('prescribed', 0.9934813380241394)]"
      ]
     },
     "execution_count": 12,
     "metadata": {},
     "output_type": "execute_result"
    }
   ],
   "source": [
    "#Testing\n",
    "model.wv.most_similar('section')"
   ]
  },
  {
   "cell_type": "code",
   "execution_count": 8,
   "metadata": {},
   "outputs": [],
   "source": [
    "#Saving model\n",
    "filename = 'criminal_bail_embedding_word2vec.txt'\n",
    "os.chdir('D:\\\\PhD\\\\Dataset')\n",
    "model.wv.save_word2vec_format(filename, binary=False)"
   ]
  }
 ],
 "metadata": {
  "kernelspec": {
   "display_name": "Python 3",
   "language": "python",
   "name": "python3"
  },
  "language_info": {
   "codemirror_mode": {
    "name": "ipython",
    "version": 3
   },
   "file_extension": ".py",
   "mimetype": "text/x-python",
   "name": "python",
   "nbconvert_exporter": "python",
   "pygments_lexer": "ipython3",
   "version": "3.8.0"
  }
 },
 "nbformat": 4,
 "nbformat_minor": 4
}
