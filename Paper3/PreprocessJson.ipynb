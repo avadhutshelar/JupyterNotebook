{
 "cells": [
  {
   "cell_type": "code",
   "execution_count": 2,
   "metadata": {},
   "outputs": [],
   "source": [
    "import json\n",
    "import os\n",
    "import pandas as pd\n",
    "\n",
    "jsonFOlderPath='D:\\\\PhD\\\\Dataset\\\\CourtOrdersJson\\\\DistrictandSessionCourtPune\\\\CriBailAppln'\n",
    "\n",
    "df = pd.DataFrame()\n",
    "\n",
    "for subdir, dirs, files in os.walk(jsonFOlderPath):\n",
    "    for filename in files:\n",
    "        filepath = subdir + os.sep + filename\n",
    "\n",
    "        if filepath.endswith(\".json\"):            \n",
    "            f = open(filepath,\"r\", encoding=\"utf8\")\n",
    "            data = json.load(f) \n",
    "            df=df.append(data, ignore_index = True)"
   ]
  },
  {
   "cell_type": "code",
   "execution_count": 3,
   "metadata": {},
   "outputs": [
    {
     "name": "stdout",
     "output_type": "stream",
     "text": [
      "(470, 12)\n",
      "<class 'pandas.core.frame.DataFrame'>\n",
      "Index(['actualOrders', 'caseNumber', 'caseType', 'caseYear',\n",
      "       'courtEstablishment', 'decisionReasons', 'decisions', 'id',\n",
      "       'judgements', 'parties', 'rawTextOrder', 'title'],\n",
      "      dtype='object')\n"
     ]
    }
   ],
   "source": [
    "print(df.shape)\n",
    "print(type(df))\n",
    "print(df.columns)"
   ]
  },
  {
   "cell_type": "markdown",
   "metadata": {},
   "source": [
    "# Preparing the list of judgment points with Legal references"
   ]
  },
  {
   "cell_type": "code",
   "execution_count": 5,
   "metadata": {},
   "outputs": [
    {
     "name": "stdout",
     "output_type": "stream",
     "text": [
      "<class 'pandas.core.series.Series'>\n",
      "470\n",
      "Applicant ­ Rahul Sakharam Ingle has filed this application under Section 438 of the Code of Criminal Procedure for the grant of Anticipatory Bail in connection with C.R.No. 217/2018 under Section 323, 326, 336, 337, 504 and 506 of the Indian Penal Code.\n"
     ]
    }
   ],
   "source": [
    "all_judgements_all_docs=df['judgements']\n",
    "print(type(all_judgements_all_docs))\n",
    "\n",
    "leg_ref_judgementPoints=[]\n",
    "for all_judgements_one_docs in all_judgements_all_docs:\n",
    "    for judgement in all_judgements_one_docs:        \n",
    "        if 1==judgement['judgementSequence']:\n",
    "            #print(judgement['judgementSequence'])\n",
    "            #print(judgement['judgementPoint'])\n",
    "            leg_ref_judgementPoints.append(judgement['judgementPoint'])\n",
    "        \n",
    "print(len(leg_ref_judgementPoints))\n",
    "print(leg_ref_judgementPoints[0])"
   ]
  },
  {
   "cell_type": "code",
   "execution_count": 149,
   "metadata": {},
   "outputs": [
    {
     "name": "stdout",
     "output_type": "stream",
     "text": [
      "\n",
      "\n",
      " Applicant ­ Rahul Sakharam Ingle has filed this application under Section 438 of the Code of Criminal Procedure for the grant of Anticipatory Bail in connection with C.R.No. 217/2018 under Section 323, 326, 336, 337, 504 and 506 of the Indian Penal Code.\n",
      "Legal reference found:  1  : ('Section ', '', '323, 326, 336, 337, 504', '337, ', ' and ', '506', '', ' of the')\n",
      "[(66, 84), (189, 235)]\n",
      "\n",
      "\n",
      " 1] Applicants­Bhimraj Gangaram Nath and Janak Ratna Dhakal have filed this application for bail under section 439 of Cr.P.C. in connection with CR No.588/2018 registered with Sangvi Police Station, Pune, under section 399, 402 of IPC, under section 37 (1) r/w. S. 135 of Bombay Police Act and under section 4 (25) of Arms Act.\n",
      "Legal reference found:  2  : ('section ', '', '399, 402', '399, ', '', '', '', '')\n",
      "[(102, 113), (210, 226), (241, 251), (299, 308)]\n",
      "\n",
      "\n",
      " 1] Perused application and say filed by A.P.P. for State. Perused documents. Heard Advocate for applicants and A.P.P. for State.\n"
     ]
    },
    {
     "ename": "IndexError",
     "evalue": "list index out of range",
     "output_type": "error",
     "traceback": [
      "\u001b[1;31m---------------------------------------------------------------------------\u001b[0m",
      "\u001b[1;31mIndexError\u001b[0m                                Traceback (most recent call last)",
      "\u001b[1;32m<ipython-input-149-3e2a0a97d93f>\u001b[0m in \u001b[0;36m<module>\u001b[1;34m\u001b[0m\n\u001b[0;32m     17\u001b[0m     \u001b[0mlegRef\u001b[0m \u001b[1;33m=\u001b[0m \u001b[0mlegalReferenceRegex\u001b[0m\u001b[1;33m.\u001b[0m\u001b[0mfindall\u001b[0m\u001b[1;33m(\u001b[0m\u001b[0mjudgementPoint\u001b[0m\u001b[1;33m)\u001b[0m\u001b[1;33m\u001b[0m\u001b[1;33m\u001b[0m\u001b[0m\n\u001b[0;32m     18\u001b[0m     \u001b[1;32mif\u001b[0m \u001b[1;32mNone\u001b[0m \u001b[1;33m!=\u001b[0m \u001b[0mlegRef\u001b[0m\u001b[1;33m:\u001b[0m\u001b[1;33m\u001b[0m\u001b[1;33m\u001b[0m\u001b[0m\n\u001b[1;32m---> 19\u001b[1;33m         \u001b[0mprint\u001b[0m\u001b[1;33m(\u001b[0m\u001b[1;34m'Legal reference found: '\u001b[0m\u001b[1;33m,\u001b[0m\u001b[0mi\u001b[0m \u001b[1;33m,\u001b[0m \u001b[1;34m\" :\"\u001b[0m\u001b[1;33m,\u001b[0m \u001b[0mlegRef\u001b[0m\u001b[1;33m[\u001b[0m\u001b[1;36m1\u001b[0m\u001b[1;33m]\u001b[0m\u001b[1;33m)\u001b[0m\u001b[1;33m\u001b[0m\u001b[1;33m\u001b[0m\u001b[0m\n\u001b[0m\u001b[0;32m     20\u001b[0m         \u001b[0mprint\u001b[0m\u001b[1;33m(\u001b[0m\u001b[1;33m[\u001b[0m\u001b[1;33m(\u001b[0m\u001b[0mx\u001b[0m\u001b[1;33m.\u001b[0m\u001b[0mstart\u001b[0m\u001b[1;33m(\u001b[0m\u001b[1;33m)\u001b[0m\u001b[1;33m,\u001b[0m\u001b[0mx\u001b[0m\u001b[1;33m.\u001b[0m\u001b[0mend\u001b[0m\u001b[1;33m(\u001b[0m\u001b[1;33m)\u001b[0m\u001b[1;33m)\u001b[0m \u001b[1;32mfor\u001b[0m \u001b[0mx\u001b[0m \u001b[1;32min\u001b[0m \u001b[0mre\u001b[0m\u001b[1;33m.\u001b[0m\u001b[0mfinditer\u001b[0m\u001b[1;33m(\u001b[0m\u001b[0mlegalReferenceRegex\u001b[0m\u001b[1;33m,\u001b[0m \u001b[0mjudgementPoint\u001b[0m\u001b[1;33m)\u001b[0m\u001b[1;33m]\u001b[0m\u001b[1;33m)\u001b[0m\u001b[1;33m\u001b[0m\u001b[1;33m\u001b[0m\u001b[0m\n\u001b[0;32m     21\u001b[0m         \u001b[0mmatched\u001b[0m\u001b[1;33m=\u001b[0m\u001b[0mmatched\u001b[0m\u001b[1;33m+\u001b[0m\u001b[1;36m1\u001b[0m\u001b[1;33m\u001b[0m\u001b[1;33m\u001b[0m\u001b[0m\n",
      "\u001b[1;31mIndexError\u001b[0m: list index out of range"
     ]
    }
   ],
   "source": [
    "import re\n",
    "\n",
    "sectionReferenceRegex = '(Sections |Section |sections |section |(u/s )|sec )'\n",
    "num = '(\\d+)?'\n",
    "listOfNumbers = '((\\d+,\\s+)+\\d+)?'\n",
    "andRegex = '(\\s*and\\s*)?'\n",
    "readWith = '( r/w\\. | r/w )?'\n",
    "ofTheConst = '( of the)?'\n",
    "legalReferenceRegex = re.compile(sectionReferenceRegex+listOfNumbers+andRegex+num+readWith+ofTheConst)\n",
    "\n",
    "matched=0\n",
    "unmatched=0\n",
    "i=0\n",
    "for judgementPoint in leg_ref_judgementPoints:\n",
    "    i=i+1\n",
    "    print(\"\\n\\n\",judgementPoint)\n",
    "    legRef = legalReferenceRegex.findall(judgementPoint)    \n",
    "    if None != legRef:\n",
    "        print('Legal reference found: ',i , \" :\", legRef[1])\n",
    "        print([(x.start(),x.end()) for x in re.finditer(legalReferenceRegex, judgementPoint)])\n",
    "        matched=matched+1\n",
    "    else:        \n",
    "        #print('Legal reference not found')\n",
    "        unmatched=unmatched+1\n",
    "        \n",
    "print(\"Matched docs: \",matched,\" Unmatched docs: \",unmatched,\" Total docs: \",i)"
   ]
  }
 ],
 "metadata": {
  "kernelspec": {
   "display_name": "Python 3",
   "language": "python",
   "name": "python3"
  },
  "language_info": {
   "codemirror_mode": {
    "name": "ipython",
    "version": 3
   },
   "file_extension": ".py",
   "mimetype": "text/x-python",
   "name": "python",
   "nbconvert_exporter": "python",
   "pygments_lexer": "ipython3",
   "version": "3.8.0"
  }
 },
 "nbformat": 4,
 "nbformat_minor": 4
}
