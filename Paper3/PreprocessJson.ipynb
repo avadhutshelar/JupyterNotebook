{
 "cells": [
  {
   "cell_type": "code",
   "execution_count": 52,
   "metadata": {},
   "outputs": [],
   "source": [
    "import json\n",
    "import os\n",
    "import pandas as pd\n",
    "\n",
    "jsonFOlderPath='D:\\\\PhD\\\\Dataset\\\\CourtOrdersJson\\\\DistrictandSessionCourtPune\\\\CriBailAppln'\n",
    "\n",
    "df = pd.DataFrame()\n",
    "\n",
    "for subdir, dirs, files in os.walk(jsonFOlderPath):\n",
    "    for filename in files:\n",
    "        filepath = subdir + os.sep + filename\n",
    "\n",
    "        if filepath.endswith(\".json\"):            \n",
    "            f = open(filepath,\"r\", encoding=\"utf8\")\n",
    "            data = json.load(f) \n",
    "            df=df.append(data, ignore_index = True)"
   ]
  },
  {
   "cell_type": "code",
   "execution_count": 55,
   "metadata": {},
   "outputs": [
    {
     "name": "stdout",
     "output_type": "stream",
     "text": [
      "(470, 12)\n",
      "Index(['actualOrders', 'caseNumber', 'caseType', 'caseYear',\n",
      "       'courtEstablishment', 'decisionReasons', 'decisions', 'id',\n",
      "       'judgements', 'parties', 'rawTextOrder', 'title'],\n",
      "      dtype='object')\n"
     ]
    }
   ],
   "source": [
    "print(df.shape)\n",
    "print(df.columns)"
   ]
  },
  {
   "cell_type": "code",
   "execution_count": 62,
   "metadata": {},
   "outputs": [
    {
     "name": "stdout",
     "output_type": "stream",
     "text": [
      "[{'decisionSequence': 1, 'decisionPoint': 'Application is Accepted or Allowed?', 'decisionFinding': 'NO'}]\n"
     ]
    }
   ],
   "source": [
    "print(df['decisions'][0])"
   ]
  }
 ],
 "metadata": {
  "kernelspec": {
   "display_name": "Python 3",
   "language": "python",
   "name": "python3"
  },
  "language_info": {
   "codemirror_mode": {
    "name": "ipython",
    "version": 3
   },
   "file_extension": ".py",
   "mimetype": "text/x-python",
   "name": "python",
   "nbconvert_exporter": "python",
   "pygments_lexer": "ipython3",
   "version": "3.8.0"
  }
 },
 "nbformat": 4,
 "nbformat_minor": 4
}
