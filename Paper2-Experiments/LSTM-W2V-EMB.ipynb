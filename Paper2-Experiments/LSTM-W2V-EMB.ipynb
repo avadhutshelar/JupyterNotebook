{
 "cells": [
  {
   "cell_type": "markdown",
   "metadata": {},
   "source": [
    "# LSTM - Custom W2V Embedding"
   ]
  },
  {
   "cell_type": "markdown",
   "metadata": {},
   "source": [
    "Import Libraries:"
   ]
  },
  {
   "cell_type": "code",
   "execution_count": 39,
   "metadata": {},
   "outputs": [
    {
     "name": "stdout",
     "output_type": "stream",
     "text": [
      "Tensor Flow Version:  2.2.0-rc2\n"
     ]
    }
   ],
   "source": [
    "import numpy as np\n",
    "import os\n",
    "import time\n",
    "from datetime import datetime\n",
    "import pandas as pd\n",
    "import json\n",
    "import re\n",
    "from sklearn.metrics import classification_report, confusion_matrix\n",
    "from sklearn.model_selection import StratifiedShuffleSplit\n",
    "import random as rn\n",
    "import keras\n",
    "from keras.initializers import Constant\n",
    "import tensorflow as tf\n",
    "os.environ['TF_CPP_MIN_LOG_LEVEL']='2'\n",
    "\n",
    "startTime = time.time()\n",
    "print(\"Tensor Flow Version: \",tf.__version__)"
   ]
  },
  {
   "cell_type": "code",
   "execution_count": 40,
   "metadata": {},
   "outputs": [],
   "source": [
    "#All this for reproducibility\n",
    "np.random.seed(1)\n",
    "rn.seed(1)\n",
    "tf.random.set_seed(1)"
   ]
  },
  {
   "cell_type": "code",
   "execution_count": 41,
   "metadata": {},
   "outputs": [
    {
     "name": "stdout",
     "output_type": "stream",
     "text": [
      "Max sequence length: 1503\n",
      "Shape Before Padding: (724,)\n",
      "\n",
      "Shape After Padding: (1503,)\n",
      "\n",
      " nWords: 10203\n"
     ]
    }
   ],
   "source": [
    "# Build the corpus and sequences\n",
    "labelToName = { 0 : 'Rejected', 1 : 'Allowed' }\n",
    "namesInLabelOrder = ['Rejected', 'Allowed']\n",
    "os.chdir('D:\\\\PhD\\\\Dataset')\n",
    "df=pd.read_csv('CriminalBailApplication.csv')\n",
    "X=df.text.tolist()\n",
    "labels=df.loc[:,['label']]\n",
    "\n",
    "\n",
    "def preprocess(temp):\n",
    "    temp=re.sub(\"\\s\\s+\",\" \",temp)    #Replacing multiple spaces with one\n",
    "    temp=temp.replace(u'\\xa0', ' ').encode('utf-8')  #Replacing non-breaking space    \n",
    "    temp=temp.decode().split(' ')    #Converting a string into list of words seperated by space charcter\n",
    "    return temp\n",
    "\n",
    "#print(X[1])\n",
    "X = [preprocess(t) for t in X]  \n",
    "#print(\"\\n\\n\\n After Preprocess:\\n\\n\",X[1])\n",
    "\n",
    "def seqlengths(l):\n",
    "    if isinstance(l,list):\n",
    "        yield len(l)\n",
    "        for y in l:\n",
    "            yield from seqlengths(y)\n",
    "\n",
    "maxsequenceLength=max(seqlengths(X))\n",
    "print(\"Max sequence length:\",maxsequenceLength)\n",
    "\n",
    "# Encode the documents\n",
    "kTokenizer = keras.preprocessing.text.Tokenizer() \n",
    "kTokenizer.fit_on_texts(X)\n",
    "Xencoded = np.array([np.array(xi) for xi in kTokenizer.texts_to_sequences(X)])                \n",
    "\n",
    "print(\"Shape Before Padding:\",np.shape(Xencoded[22]))\n",
    "Xencoded=keras.preprocessing.sequence.pad_sequences(Xencoded, maxlen=maxsequenceLength, truncating='post')\n",
    "print(\"\\nShape After Padding:\",np.shape(Xencoded[22]))\n",
    "\n",
    "labels = np.array(labels)\n",
    "\n",
    "nWords=len(kTokenizer.word_index)\n",
    "print(\"\\n nWords:\",nWords)"
   ]
  },
  {
   "cell_type": "code",
   "execution_count": 42,
   "metadata": {},
   "outputs": [],
   "source": [
    "EMBEDDING_DIM=200"
   ]
  },
  {
   "cell_type": "code",
   "execution_count": 43,
   "metadata": {},
   "outputs": [
    {
     "name": "stdout",
     "output_type": "stream",
     "text": [
      "(309,)\n",
      "(78,)\n"
     ]
    }
   ],
   "source": [
    "sss = StratifiedShuffleSplit(n_splits=1, test_size=0.2, random_state=1).split(Xencoded, labels)\n",
    "train_indices, test_indices = next(sss)\n",
    "print(np.shape(train_indices))\n",
    "print(np.shape(test_indices))\n",
    "\n",
    "train_x = Xencoded[train_indices]\n",
    "test_x = Xencoded[test_indices]\n",
    "train_labels = keras.utils.to_categorical(labels[train_indices], len(labelToName))\n",
    "test_labels = keras.utils.to_categorical(labels[test_indices], len(labelToName))"
   ]
  },
  {
   "cell_type": "code",
   "execution_count": 44,
   "metadata": {},
   "outputs": [],
   "source": [
    "#Custom Embedding\n",
    "filename = 'criminal_bail_embedding_word2vec.txt'\n",
    "os.chdir('D:\\\\PhD\\\\Dataset')\n",
    "embedding_index={}\n",
    "f = open(os.path.join('',filename),encoding=\"utf-8\")\n",
    "for line in f:\n",
    "    values = line.split()\n",
    "    word = values[0]\n",
    "    coefs = np.asarray(values[1:])\n",
    "    embedding_index[word] = coefs\n",
    "f.close()"
   ]
  },
  {
   "cell_type": "code",
   "execution_count": 45,
   "metadata": {},
   "outputs": [],
   "source": [
    "embedding_matrix = np.zeros((nWords+1, EMBEDDING_DIM))\n",
    "\n",
    "for word, i in kTokenizer.word_index.items():\n",
    "    if i > nWords+1:\n",
    "        continue\n",
    "    embedding_vector = embedding_index.get(word)\n",
    "    if embedding_vector is not None:\n",
    "        #word not found in embedding_index will be all zeros\n",
    "        embedding_matrix[i] = embedding_vector"
   ]
  },
  {
   "cell_type": "code",
   "execution_count": 46,
   "metadata": {},
   "outputs": [],
   "source": [
    "# Build the LSTM model\n",
    "def getModel():\n",
    "    units1, units2 = int (nWords/4), int (nWords/8)\n",
    "    model = keras.models.Sequential()\n",
    "    model.add(keras.layers.embeddings.Embedding(input_dim = nWords+1,\n",
    "                                                output_dim = EMBEDDING_DIM,\n",
    "                                                embeddings_initializer=Constant(embedding_matrix),\n",
    "                                                input_length=maxsequenceLength, \n",
    "                                                trainable=False))               \n",
    "    model.add(keras.layers.LSTM(units = units2, return_sequences =False))                              \n",
    "    model.add(keras.layers.Dense(len(labelToName), activation ='softmax'))                           \n",
    "    model.compile(optimizer='adam', loss = 'categorical_crossentropy', metrics=['acc'])\n",
    "    return model"
   ]
  },
  {
   "cell_type": "code",
   "execution_count": 47,
   "metadata": {},
   "outputs": [
    {
     "name": "stdout",
     "output_type": "stream",
     "text": [
      "Model: \"sequential_4\"\n",
      "_________________________________________________________________\n",
      "Layer (type)                 Output Shape              Param #   \n",
      "=================================================================\n",
      "embedding_1 (Embedding)      (None, 1503, 200)         2040800   \n",
      "_________________________________________________________________\n",
      "lstm_1 (LSTM)                (None, 1275)              7527600   \n",
      "_________________________________________________________________\n",
      "dense_1 (Dense)              (None, 2)                 2552      \n",
      "=================================================================\n",
      "Total params: 9,570,952\n",
      "Trainable params: 7,530,152\n",
      "Non-trainable params: 2,040,800\n",
      "_________________________________________________________________\n",
      "Train on 247 samples, validate on 62 samples\n",
      "Epoch 1/50\n",
      " - 553s - loss: 0.6415 - acc: 0.7328 - val_loss: 0.4564 - val_acc: 0.7903\n",
      "Epoch 2/50\n",
      " - 529s - loss: 0.5488 - acc: 0.7854 - val_loss: 0.4624 - val_acc: 0.8226\n",
      "Epoch 3/50\n",
      " - 595s - loss: 0.4779 - acc: 0.7935 - val_loss: 0.4817 - val_acc: 0.7581\n",
      "Epoch 4/50\n",
      " - 602s - loss: 0.4617 - acc: 0.7895 - val_loss: 0.4992 - val_acc: 0.7419\n",
      "Epoch 5/50\n",
      " - 583s - loss: 0.4425 - acc: 0.7895 - val_loss: 0.4926 - val_acc: 0.7581\n",
      "Epoch 6/50\n",
      " - 584s - loss: 0.4156 - acc: 0.8097 - val_loss: 0.5362 - val_acc: 0.7258\n",
      "Epoch 00006: early stopping\n",
      "\n",
      "test_loss: 0.6077334162516471 \n",
      "test_accuracy: 0.7179487347602844\n",
      "\n",
      "\n",
      "Confusion Matrix:\n",
      " [[54  7]\n",
      " [15  2]]\n",
      "\n",
      "\n",
      "Classification Report:\n",
      "\n",
      "               precision    recall  f1-score   support\n",
      "\n",
      "    Rejected     0.7826    0.8852    0.8308        61\n",
      "     Allowed     0.2222    0.1176    0.1538        17\n",
      "\n",
      "    accuracy                         0.7179        78\n",
      "   macro avg     0.5024    0.5014    0.4923        78\n",
      "weighted avg     0.6605    0.7179    0.6832        78\n",
      "\n",
      "\n",
      "\n",
      "Total time taken: \n",
      "00:58:45.89\n"
     ]
    }
   ],
   "source": [
    "# Train and test over multiple train/validation sets\n",
    "early_stop = keras.callbacks.EarlyStopping(monitor='val_loss', min_delta=0, patience=5, verbose=2, mode='auto', restore_best_weights=False)                         \n",
    "sss2 = StratifiedShuffleSplit(n_splits=10, test_size=0.2, random_state=1).split(train_x, train_labels)          \n",
    "results={}\n",
    "for i in range(1):\n",
    "    train_indices_2, val_indices = next(sss2)\n",
    "    model = getModel()\n",
    "    model.summary()\n",
    "    history=model.fit(x=train_x[train_indices_2], y=train_labels[train_indices_2], epochs=50, batch_size=32, shuffle=True, validation_data = (train_x[val_indices], train_labels[val_indices]), verbose=2, callbacks=[early_stop], use_multiprocessing=True)\n",
    "    test_loss, test_accuracy = model.evaluate(test_x, test_labels, verbose=2)                                \n",
    "    print (\"\\ntest_loss:\",test_loss, \"\\ntest_accuracy:\",test_accuracy)\n",
    "    predicted = model.predict(test_x, verbose=2)\n",
    "    predicted_labels = predicted.argmax(axis=1)        \n",
    "    print (\"\\n\\nConfusion Matrix:\\n\",confusion_matrix(labels[test_indices], predicted_labels))\n",
    "    print (\"\\n\\nClassification Report:\\n\\n\",classification_report(labels[test_indices], predicted_labels, digits=4, target_names=namesInLabelOrder))\n",
    "    result={}\n",
    "    result['confusion_matrix'] = confusion_matrix(labels[test_indices], predicted_labels).tolist()\n",
    "    result['classification_report'] = classification_report(labels[test_indices], predicted_labels, digits=4, target_names=namesInLabelOrder, output_dict=True)\n",
    "    results[i] = result\n",
    "os.chdir('D:\\\\PhD\\\\Dataset\\\\Results\\\\Paper2')\n",
    "filename = 'LSTM-W2V-EMB-'+time.strftime(\"%d-%m-%Y-%H-%M-%S\")+'.json'\n",
    "f = open (filename,'w')\n",
    "out = json.dumps(results, ensure_ascii=True)\n",
    "f.write(out)\n",
    "f.close()\n",
    "\n",
    "endTime = time.time()\n",
    "hours, rem = divmod(endTime-startTime, 3600)\n",
    "minutes, seconds = divmod(rem, 60)\n",
    "print(\"\\n\\nTotal time taken: \")\n",
    "print(\"{:0>2}:{:0>2}:{:05.2f}\".format(int(hours),int(minutes),seconds))"
   ]
  },
  {
   "cell_type": "code",
   "execution_count": 55,
   "metadata": {},
   "outputs": [
    {
     "name": "stdout",
     "output_type": "stream",
     "text": [
      "6\n",
      "6\n",
      "6\n",
      "6\n",
      "6\n"
     ]
    }
   ],
   "source": [
    "print(len(history.history['acc']))\n",
    "print(len(history.history['val_acc']))\n",
    "print(len(history.history['loss']))\n",
    "print(len(history.history['val_loss']))\n",
    "print(len(history.history['acc']))"
   ]
  },
  {
   "cell_type": "code",
   "execution_count": 56,
   "metadata": {},
   "outputs": [
    {
     "data": {
      "image/png": "[encoded data removed]",
      "text/plain": [
       "<Figure size 576x432 with 1 Axes>"
      ]
     },
     "metadata": {
      "needs_background": "light"
     },
     "output_type": "display_data"
    }
   ],
   "source": [
    "import matplotlib.pyplot as plt\n",
    "fig = plt.figure(figsize=(8,6))\n",
    "subplot = fig.add_subplot(1, 1, 1)\n",
    "\n",
    "loss_train = history.history['loss']\n",
    "loss_val = history.history['val_loss']\n",
    "\n",
    "acc_train = history.history['acc']\n",
    "acc_val = history.history['val_acc']\n",
    "\n",
    "epochs = range(0,len(history.history['val_acc']))\n",
    "\n",
    "subplot.plot(epochs,acc_val,color='g', label='Validation')\n",
    "subplot.plot(epochs,loss_val,color='g')\n",
    "subplot.plot(epochs,acc_train,color='b')\n",
    "subplot.plot(epochs,loss_train,color='b', label='Training')\n",
    "\n",
    "plt.title('Convergence')\n",
    "plt.xlabel('Epochs')\n",
    "#subplot.legend(loc='upper left', prop={'size': 9})\n",
    "plt.legend()\n",
    "plt.show()"
   ]
  },
  {
   "cell_type": "code",
   "execution_count": 57,
   "metadata": {},
   "outputs": [
    {
     "data": {
      "image/png": "[encoded data removed]",
      "text/plain": [
       "<Figure size 432x288 with 1 Axes>"
      ]
     },
     "metadata": {
      "needs_background": "light"
     },
     "output_type": "display_data"
    }
   ],
   "source": [
    "loss_train = history.history['acc']\n",
    "loss_val = history.history['val_acc']\n",
    "epochs = range(0,len(history.history['val_acc']))\n",
    "plt.plot(epochs, loss_train, 'g', label='Training accuracy')\n",
    "plt.plot(epochs, loss_val, 'b', label='validation accuracy')\n",
    "plt.title('Training and Validation accuracy')\n",
    "plt.xlabel('Epochs')\n",
    "plt.ylabel('Accuracy')\n",
    "plt.legend()\n",
    "plt.show()"
   ]
  },
  {
   "cell_type": "code",
   "execution_count": 58,
   "metadata": {},
   "outputs": [
    {
     "data": {
      "image/png": "[encoded data removed]",
      "text/plain": [
       "<Figure size 432x288 with 1 Axes>"
      ]
     },
     "metadata": {
      "needs_background": "light"
     },
     "output_type": "display_data"
    }
   ],
   "source": [
    "loss_train = history.history['loss']\n",
    "loss_val = history.history['val_loss']\n",
    "epochs = range(0,len(history.history['val_loss']))\n",
    "plt.plot(epochs, loss_train, 'g', label='Training loss')\n",
    "plt.plot(epochs, loss_val, 'b', label='validation loss')\n",
    "plt.title('Training and Validation loss')\n",
    "plt.xlabel('Epochs')\n",
    "plt.ylabel('Loss')\n",
    "plt.legend()\n",
    "plt.show()"
   ]
  }
 ],
 "metadata": {
  "kernelspec": {
   "display_name": "Python 3",
   "language": "python",
   "name": "python3"
  },
  "language_info": {
   "codemirror_mode": {
    "name": "ipython",
    "version": 3
   },
   "file_extension": ".py",
   "mimetype": "text/x-python",
   "name": "python",
   "nbconvert_exporter": "python",
   "pygments_lexer": "ipython3",
   "version": "3.8.0"
  }
 },
 "nbformat": 4,
 "nbformat_minor": 4
}
