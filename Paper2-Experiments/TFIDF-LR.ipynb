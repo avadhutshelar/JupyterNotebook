{
 "cells": [
  {
   "cell_type": "markdown",
   "metadata": {},
   "source": [
    "# Logistic Regression"
   ]
  },
  {
   "cell_type": "code",
   "execution_count": 1,
   "metadata": {},
   "outputs": [
    {
     "name": "stderr",
     "output_type": "stream",
     "text": [
      "Using TensorFlow backend.\n"
     ]
    }
   ],
   "source": [
    "import numpy as np\n",
    "import os\n",
    "import time\n",
    "import pandas as pd\n",
    "import re\n",
    "import json\n",
    "import keras\n",
    "\n",
    "from sklearn.feature_extraction.text import TfidfVectorizer\n",
    "from sklearn.model_selection import StratifiedShuffleSplit\n",
    "from sklearn.metrics import classification_report, confusion_matrix"
   ]
  },
  {
   "cell_type": "code",
   "execution_count": 2,
   "metadata": {},
   "outputs": [
    {
     "name": "stdout",
     "output_type": "stream",
     "text": [
      "Max sequence length: 1503\n"
     ]
    }
   ],
   "source": [
    "# Build the corpus and sequences\n",
    "labelToName = { 0 : 'Rejected', 1 : 'Allowed' }\n",
    "namesInLabelOrder = ['Rejected', 'Allowed']\n",
    "os.chdir('D:\\\\PhD\\\\Dataset')\n",
    "df=pd.read_csv('CriminalBailApplication.csv')\n",
    "X=df.text.tolist()\n",
    "labels=df.loc[:,['label']]\n",
    "\n",
    "\n",
    "def preprocess(temp):\n",
    "    temp=re.sub(\"\\s\\s+\",\" \",temp)    #Replacing multiple spaces with one\n",
    "    temp=temp.replace(u'\\xa0', ' ').encode('utf-8')  #Replacing non-breaking space    \n",
    "    temp=temp.decode().split(' ')    #Converting a string into list of words seperated by space charcter\n",
    "    return temp\n",
    "\n",
    "#print(X[1])\n",
    "X = [preprocess(t) for t in X]  \n",
    "#print(\"\\n\\n\\n After Preprocess:\\n\\n\",X[1])\n",
    "\n",
    "sss = StratifiedShuffleSplit(n_splits=1, test_size=0.2, random_state=1).split(X, labels)\n",
    "train_indices, test_indices = next(sss)\n",
    "\n",
    "def seqlengths(l):\n",
    "    if isinstance(l,list):\n",
    "        yield len(l)\n",
    "        for y in l:\n",
    "            yield from seqlengths(y)\n",
    "\n",
    "maxsequenceLength=max(seqlengths(X))\n",
    "print(\"Max sequence length:\",maxsequenceLength)"
   ]
  },
  {
   "cell_type": "code",
   "execution_count": 3,
   "metadata": {},
   "outputs": [
    {
     "name": "stdout",
     "output_type": "stream",
     "text": [
      "Shape Before Padding: (724,)\n",
      "\n",
      "Shape After Padding: (1503,)\n",
      "\n",
      " nWords: 10203\n"
     ]
    }
   ],
   "source": [
    "# Encode the documents\n",
    "kTokenizer = keras.preprocessing.text.Tokenizer() \n",
    "kTokenizer.fit_on_texts(X)\n",
    "Xencoded = np.array([np.array(xi) for xi in kTokenizer.texts_to_sequences(X)])                \n",
    "\n",
    "print(\"Shape Before Padding:\",np.shape(Xencoded[22]))\n",
    "Xencoded=keras.preprocessing.sequence.pad_sequences(Xencoded, maxlen=maxsequenceLength, truncating='post')\n",
    "print(\"\\nShape After Padding:\",np.shape(Xencoded[22]))\n",
    "\n",
    "labels = np.array(labels)\n",
    "\n",
    "nWords=len(kTokenizer.word_index)\n",
    "print(\"\\n nWords:\",nWords)"
   ]
  },
  {
   "cell_type": "code",
   "execution_count": 4,
   "metadata": {},
   "outputs": [
    {
     "name": "stdout",
     "output_type": "stream",
     "text": [
      "\n",
      "\n",
      "Confusion Matrix:\n",
      " [[61  0]\n",
      " [17  0]]\n",
      "\n",
      "\n",
      "Classification Report:\n",
      "\n",
      "               precision    recall  f1-score   support\n",
      "\n",
      "    Rejected     0.7821    1.0000    0.8777        61\n",
      "     Allowed     0.0000    0.0000    0.0000        17\n",
      "\n",
      "    accuracy                         0.7821        78\n",
      "   macro avg     0.3910    0.5000    0.4388        78\n",
      "weighted avg     0.6116    0.7821    0.6864        78\n",
      "\n"
     ]
    },
    {
     "name": "stderr",
     "output_type": "stream",
     "text": [
      "c:\\users\\admin\\appdata\\local\\programs\\python\\python38\\lib\\site-packages\\sklearn\\utils\\validation.py:73: DataConversionWarning: A column-vector y was passed when a 1d array was expected. Please change the shape of y to (n_samples, ), for example using ravel().\n",
      "  return f(**kwargs)\n",
      "c:\\users\\admin\\appdata\\local\\programs\\python\\python38\\lib\\site-packages\\sklearn\\metrics\\_classification.py:1221: UndefinedMetricWarning: Precision and F-score are ill-defined and being set to 0.0 in labels with no predicted samples. Use `zero_division` parameter to control this behavior.\n",
      "  _warn_prf(average, modifier, msg_start, len(result))\n"
     ]
    }
   ],
   "source": [
    "vectorizer = TfidfVectorizer(analyzer=lambda x: x, min_df=1).fit(X)\n",
    "Xencoded=vectorizer.transform(X)\n",
    "\n",
    "from sklearn.linear_model import LogisticRegression\n",
    "results = {}\n",
    "model = LogisticRegression()\n",
    "train_x = Xencoded[train_indices]\n",
    "test_x = Xencoded[test_indices]\n",
    "train_labels = labels[train_indices]\n",
    "test_labels = labels[test_indices]\n",
    "model.fit(train_x, train_labels)\n",
    "predicted_labels = model.predict(test_x)\n",
    "results['confusion_matrix'] = confusion_matrix(labels[test_indices], predicted_labels).tolist()\n",
    "results['classification_report'] = classification_report(labels[test_indices], predicted_labels, digits=4, target_names=namesInLabelOrder, output_dict=True)\n",
    "print (\"\\n\\nConfusion Matrix:\\n\",confusion_matrix(labels[test_indices], predicted_labels))\n",
    "print (\"\\n\\nClassification Report:\\n\\n\",classification_report(labels[test_indices], predicted_labels, digits=4, target_names=namesInLabelOrder))\n",
    "\n",
    "\n",
    "os.chdir('D:\\\\PhD\\\\Dataset\\\\Results\\\\Paper2')\n",
    "filename = 'TFIDF-LR-'+time.strftime(\"%d-%m-%Y-%H-%M-%S\")+'.json'\n",
    "f = open (filename,'w')\n",
    "out = json.dumps(results, ensure_ascii=True, indent=4)\n",
    "f.write(out)\n",
    "f.close()"
   ]
  }
 ],
 "metadata": {
  "kernelspec": {
   "display_name": "Python 3",
   "language": "python",
   "name": "python3"
  },
  "language_info": {
   "codemirror_mode": {
    "name": "ipython",
    "version": 3
   },
   "file_extension": ".py",
   "mimetype": "text/x-python",
   "name": "python",
   "nbconvert_exporter": "python",
   "pygments_lexer": "ipython3",
   "version": "3.8.0"
  }
 },
 "nbformat": 4,
 "nbformat_minor": 4
}
