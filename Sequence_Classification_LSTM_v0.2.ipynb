{
 "cells": [
  {
   "cell_type": "markdown",
   "metadata": {},
   "source": [
    "# LSTM Sequence Classification\n",
    "Reference: https://towardsdatascience.com/word-bags-vs-word-sequences-for-text-classification-e0222c21d2ec"
   ]
  },
  {
   "cell_type": "markdown",
   "metadata": {},
   "source": [
    "Import Libraries:"
   ]
  },
  {
   "cell_type": "code",
   "execution_count": 9,
   "metadata": {},
   "outputs": [
    {
     "name": "stdout",
     "output_type": "stream",
     "text": [
      "Tensor Flow Version:  2.2.0-rc2\n"
     ]
    }
   ],
   "source": [
    "import numpy as np\n",
    "import os\n",
    "import time\n",
    "from datetime import datetime\n",
    "import pandas as pd\n",
    "import json\n",
    "import re\n",
    "from sklearn.metrics import classification_report, confusion_matrix\n",
    "from sklearn.model_selection import StratifiedShuffleSplit\n",
    "import random as rn\n",
    "import keras\n",
    "import tensorflow as tf\n",
    "os.environ['TF_CPP_MIN_LOG_LEVEL']='2'\n",
    "\n",
    "startTime = time.time()\n",
    "print(\"Tensor Flow Version: \",tf.__version__)"
   ]
  },
  {
   "cell_type": "code",
   "execution_count": 10,
   "metadata": {},
   "outputs": [],
   "source": [
    "#All this for reproducibility\n",
    "np.random.seed(1)\n",
    "rn.seed(1)\n",
    "tf.random.set_seed(1)\n",
    "tf.config.threading.set_intra_op_parallelism_threads(1)\n",
    "tf.config.threading.set_inter_op_parallelism_threads(112)"
   ]
  },
  {
   "cell_type": "code",
   "execution_count": 11,
   "metadata": {},
   "outputs": [
    {
     "name": "stdout",
     "output_type": "stream",
     "text": [
      "Max sequence length: 1502\n"
     ]
    }
   ],
   "source": [
    "# Build the corpus and sequences\n",
    "labelToName = { 0 : 'Rejected', 1 : 'Allowed' }\n",
    "namesInLabelOrder = ['Rejected', 'Allowed']\n",
    "os.chdir('D:\\\\PhD\\\\Dataset')\n",
    "df=pd.read_csv('CriminalBailApplication.csv')\n",
    "X=df.text.tolist()\n",
    "labels=df.loc[:,['label']]\n",
    "\n",
    "\n",
    "def preprocess(temp):\n",
    "    temp=re.sub(\"\\s\\s+\",\" \",temp)    #Replacing multiple spaces with one\n",
    "    temp=temp.replace(u'\\xa0', ' ').encode('utf-8')  #Replacing non-breaking space    \n",
    "    temp=temp.decode().split(' ')    #Converting a string into list of words seperated by space charcter\n",
    "    return temp\n",
    "\n",
    "#print(X[1])\n",
    "X = [preprocess(t) for t in X]  \n",
    "#print(\"\\n\\n\\n After Preprocess:\\n\\n\",X[1])\n",
    "\n",
    "\n",
    "sss = StratifiedShuffleSplit(n_splits=1, test_size=0.2, random_state=1).split(X, labels)\n",
    "train_indices, test_indices = next(sss)\n",
    "\n",
    "\n",
    "def seqlengths(l):\n",
    "    if isinstance(l,list):\n",
    "        yield len(l)\n",
    "        for y in l:\n",
    "            yield from seqlengths(y)\n",
    "\n",
    "maxsequenceLength=max(seqlengths(X))\n",
    "print(\"Max sequence length:\",maxsequenceLength)\n"
   ]
  },
  {
   "cell_type": "code",
   "execution_count": 12,
   "metadata": {},
   "outputs": [
    {
     "name": "stdout",
     "output_type": "stream",
     "text": [
      "Shape Before Padding: (782,)\n",
      "\n",
      "Shape After Padding: (1502,)\n",
      "\n",
      " nWords: 8793\n"
     ]
    }
   ],
   "source": [
    "# Encode the documents\n",
    "kTokenizer = keras.preprocessing.text.Tokenizer() \n",
    "kTokenizer.fit_on_texts(X)\n",
    "\n",
    "#print(\"Tokanizer:\\n\",kTokenizer.word_index)\n",
    "\n",
    "#print(\"Before Encoding:\\n\",X[230])\n",
    "Xencoded = np.array([np.array(xi) for xi in kTokenizer.texts_to_sequences(X)])                \n",
    "#print(\"After Encoding:\\n\",Xencoded[230])\n",
    "\n",
    "print(\"Shape Before Padding:\",np.shape(Xencoded[22]))\n",
    "Xencoded=keras.preprocessing.sequence.pad_sequences(Xencoded, maxlen=maxsequenceLength, truncating='post')\n",
    "print(\"\\nShape After Padding:\",np.shape(Xencoded[22]))\n",
    "\n",
    "labels = np.array(labels)\n",
    "\n",
    "nWords=len(kTokenizer.word_index)\n",
    "print(\"\\n nWords:\",nWords)"
   ]
  },
  {
   "cell_type": "code",
   "execution_count": 13,
   "metadata": {},
   "outputs": [],
   "source": [
    "# Build the LSTM model\n",
    "def getModel():\n",
    "    units1, units2 = int (nWords/4), int (nWords/8)\n",
    "    model = keras.models.Sequential()\n",
    "    model.add(keras.layers.embeddings.Embedding(input_dim = nWords+1,output_dim=units1,input_length=maxsequenceLength, trainable=True))               \n",
    "    model.add(keras.layers.LSTM(units = units2, return_sequences =False))                              \n",
    "    model.add(keras.layers.Dense(len(labelToName), activation ='softmax'))                           \n",
    "    model.compile(optimizer='adam', loss = 'categorical_crossentropy', metrics=['acc'])\n",
    "    return model"
   ]
  },
  {
   "cell_type": "code",
   "execution_count": 33,
   "metadata": {},
   "outputs": [],
   "source": [
    "train_x = Xencoded[train_indices]\n",
    "test_x = Xencoded[test_indices]\n",
    "train_labels = keras.utils.to_categorical(labels[train_indices], len(labelToName))\n",
    "test_labels = keras.utils.to_categorical(labels[test_indices], len(labelToName))"
   ]
  },
  {
   "cell_type": "code",
   "execution_count": null,
   "metadata": {},
   "outputs": [
    {
     "name": "stdout",
     "output_type": "stream",
     "text": [
      "Model: \"sequential_2\"\n",
      "_________________________________________________________________\n",
      "Layer (type)                 Output Shape              Param #   \n",
      "=================================================================\n",
      "embedding_2 (Embedding)      (None, 1502, 2198)        19329212  \n",
      "_________________________________________________________________\n",
      "lstm_2 (LSTM)                (None, 1099)              14498008  \n",
      "_________________________________________________________________\n",
      "dense_2 (Dense)              (None, 2)                 2200      \n",
      "=================================================================\n",
      "Total params: 33,829,420\n",
      "Trainable params: 33,829,420\n",
      "Non-trainable params: 0\n",
      "_________________________________________________________________\n"
     ]
    },
    {
     "name": "stderr",
     "output_type": "stream",
     "text": [
      "c:\\users\\admin\\appdata\\local\\programs\\python\\python38\\lib\\site-packages\\tensorflow\\python\\framework\\indexed_slices.py:433: UserWarning: Converting sparse IndexedSlices to a dense Tensor of unknown shape. This may consume a large amount of memory.\n",
      "  warnings.warn(\n"
     ]
    },
    {
     "name": "stdout",
     "output_type": "stream",
     "text": [
      "Train on 210 samples, validate on 53 samples\n",
      "Epoch 1/50\n",
      " - 835s - loss: 0.6461 - acc: 0.7762 - val_loss: 0.4989 - val_acc: 0.7925\n",
      "Epoch 2/50\n",
      " - 839s - loss: 0.3225 - acc: 0.8810 - val_loss: 0.3568 - val_acc: 0.8302\n",
      "Epoch 3/50\n",
      " - 829s - loss: 0.0906 - acc: 0.9714 - val_loss: 0.4284 - val_acc: 0.8868\n",
      "Epoch 4/50\n",
      " - 835s - loss: 0.0221 - acc: 0.9857 - val_loss: 0.3648 - val_acc: 0.8491\n",
      "Epoch 5/50\n",
      " - 836s - loss: 0.0231 - acc: 0.9952 - val_loss: 0.2692 - val_acc: 0.8679\n",
      "Epoch 6/50\n",
      " - 839s - loss: 0.0036 - acc: 1.0000 - val_loss: 0.2728 - val_acc: 0.8679\n",
      "Epoch 7/50\n",
      " - 841s - loss: 0.0015 - acc: 1.0000 - val_loss: 0.2581 - val_acc: 0.8679\n",
      "Epoch 8/50\n",
      " - 843s - loss: 0.0012 - acc: 1.0000 - val_loss: 0.2549 - val_acc: 0.8679\n",
      "Epoch 9/50\n",
      " - 870s - loss: 5.9444e-04 - acc: 1.0000 - val_loss: 0.2746 - val_acc: 0.8679\n",
      "Epoch 10/50\n",
      " - 975s - loss: 2.8626e-04 - acc: 1.0000 - val_loss: 0.3184 - val_acc: 0.8868\n",
      "Epoch 11/50\n"
     ]
    }
   ],
   "source": [
    "# Train and test over multiple train/validation sets\n",
    "early_stop = keras.callbacks.EarlyStopping(monitor='val_loss', min_delta=0, patience=5, verbose=2, mode='auto', restore_best_weights=False)                         \n",
    "sss2 = StratifiedShuffleSplit(n_splits=10, test_size=0.2, random_state=1).split(train_x, train_labels)          \n",
    "results={}\n",
    "for i in range(2):\n",
    "    train_indices_2, val_indices = next(sss2)\n",
    "    model = getModel()\n",
    "    model.summary()\n",
    "    history=model.fit(x=train_x[train_indices_2], y=train_labels[train_indices_2], epochs=50, batch_size=32, shuffle=True, validation_data = (train_x[val_indices], train_labels[val_indices]), verbose=2, callbacks=[early_stop], use_multiprocessing=True)\n",
    "    test_loss, test_accuracy = model.evaluate(test_x, test_labels, verbose=2)                                \n",
    "    print (\"\\ntest_loss:\",test_loss, \"\\ntest_accuracy:\",test_accuracy)\n",
    "    predicted = model.predict(test_x, verbose=2)\n",
    "    predicted_labels = predicted.argmax(axis=1)        \n",
    "    print (\"\\n\\nConfusion Matrix:\\n\",confusion_matrix(labels[test_indices], predicted_labels))\n",
    "    print (\"\\n\\nClassification Report:\\n\\n\",classification_report(labels[test_indices], predicted_labels, digits=4, target_names=namesInLabelOrder))\n",
    "    result={}\n",
    "    result['confusion_matrix'] = confusion_matrix(labels[test_indices], predicted_labels).tolist()\n",
    "    result['classification_report'] = classification_report(labels[test_indices], predicted_labels, digits=4, target_names=namesInLabelOrder, output_dict=True)\n",
    "    results[i] = result\n",
    "os.chdir('D:\\\\PhD\\\\Dataset\\\\Results')\n",
    "filename = 'LSTM-'+time.strftime(\"%d-%m-%Y-%H-%M-%S\")+'.json'\n",
    "f = open (filename,'w')\n",
    "out = json.dumps(results, ensure_ascii=True)\n",
    "f.write(out)\n",
    "f.close()\n",
    "\n",
    "endTime = time.time()\n",
    "hours, rem = divmod(endTime-startTime, 3600)\n",
    "minutes, seconds = divmod(rem, 60)\n",
    "print(\"\\n\\nTotal time taken: \")\n",
    "print(\"{:0>2}:{:0>2}:{:05.2f}\".format(int(hours),int(minutes),seconds))"
   ]
  },
  {
   "cell_type": "code",
   "execution_count": 47,
   "metadata": {},
   "outputs": [
    {
     "name": "stdout",
     "output_type": "stream",
     "text": [
      "[[48  3]\n",
      " [ 3 12]]\n",
      "              precision    recall  f1-score   support\n",
      "\n",
      "    Rejected     0.9412    0.9412    0.9412        51\n",
      "     Allowed     0.8000    0.8000    0.8000        15\n",
      "\n",
      "    accuracy                         0.9091        66\n",
      "   macro avg     0.8706    0.8706    0.8706        66\n",
      "weighted avg     0.9091    0.9091    0.9091        66\n",
      "\n"
     ]
    }
   ],
   "source": [
    "result={}\n",
    "resluts={}\n",
    "print(confusion_matrix(labels[test_indices], predicted_labels))\n",
    "print(classification_report(labels[test_indices], predicted_labels, digits=4, target_names=namesInLabelOrder))\n",
    "\n",
    "result['confusion_matrix'] = confusion_matrix(labels[test_indices], predicted_labels).tolist()\n",
    "result['classification_report'] = classification_report(labels[test_indices], predicted_labels, digits=4, target_names=namesInLabelOrder, output_dict=True)\n",
    "results[0] = result\n",
    "\n",
    "os.chdir('D:\\\\PhD\\\\Dataset\\\\Results')\n",
    "filename = 'LSTM-'+time.strftime(\"%d-%m-%Y-%H-%M-%S\")+'.json'\n",
    "f = open (filename,'w')\n",
    "out = json.dumps(results, ensure_ascii=True, indent=4)\n",
    "f.write(out)\n",
    "f.close()"
   ]
  },
  {
   "cell_type": "code",
   "execution_count": 18,
   "metadata": {},
   "outputs": [
    {
     "name": "stdout",
     "output_type": "stream",
     "text": [
      "8\n",
      "8\n",
      "8\n",
      "8\n"
     ]
    }
   ],
   "source": [
    "print(len(history.history['acc']))\n",
    "print(len(history.history['val_acc']))\n",
    "print(len(history.history['loss']))\n",
    "print(len(history.history['val_loss']))\n",
    "print(len(history.history['acc']))"
   ]
  },
  {
   "cell_type": "code",
   "execution_count": 61,
   "metadata": {},
   "outputs": [
    {
     "data": {
      "image/png": "[encoded data removed]",
      "text/plain": [
       "<Figure size 576x432 with 1 Axes>"
      ]
     },
     "metadata": {
      "needs_background": "light"
     },
     "output_type": "display_data"
    }
   ],
   "source": [
    "import matplotlib.pyplot as plt\n",
    "fig = plt.figure(figsize=(8,6))\n",
    "subplot = fig.add_subplot(1, 1, 1)\n",
    "\n",
    "loss_train = history.history['loss']\n",
    "loss_val = history.history['val_loss']\n",
    "\n",
    "acc_train = history.history['acc']\n",
    "acc_val = history.history['val_acc']\n",
    "\n",
    "epochs = range(0,len(history.history['val_acc']))\n",
    "\n",
    "subplot.plot(epochs,acc_val,color='g', label='Validation')\n",
    "subplot.plot(epochs,loss_val,color='g')\n",
    "subplot.plot(epochs,acc_train,color='b')\n",
    "subplot.plot(epochs,loss_train,color='b', label='Training')\n",
    "\n",
    "plt.title('Convergence')\n",
    "plt.xlabel('Epochs')\n",
    "#subplot.legend(loc='upper left', prop={'size': 9})\n",
    "plt.legend()\n",
    "plt.show()"
   ]
  },
  {
   "cell_type": "code",
   "execution_count": 30,
   "metadata": {},
   "outputs": [
    {
     "data": {
      "image/png": "[encoded data removed]",
      "text/plain": [
       "<Figure size 432x288 with 1 Axes>"
      ]
     },
     "metadata": {
      "needs_background": "light"
     },
     "output_type": "display_data"
    }
   ],
   "source": [
    "loss_train = history.history['acc']\n",
    "loss_val = history.history['val_acc']\n",
    "epochs = range(0,len(history.history['val_acc']))\n",
    "plt.plot(epochs, loss_train, 'g', label='Training accuracy')\n",
    "plt.plot(epochs, loss_val, 'b', label='validation accuracy')\n",
    "plt.title('Training and Validation accuracy')\n",
    "plt.xlabel('Epochs')\n",
    "plt.ylabel('Accuracy')\n",
    "plt.legend()\n",
    "plt.show()"
   ]
  },
  {
   "cell_type": "code",
   "execution_count": 31,
   "metadata": {},
   "outputs": [
    {
     "data": {
      "image/png": "[encoded data removed]",
      "text/plain": [
       "<Figure size 432x288 with 1 Axes>"
      ]
     },
     "metadata": {
      "needs_background": "light"
     },
     "output_type": "display_data"
    }
   ],
   "source": [
    "loss_train = history.history['loss']\n",
    "loss_val = history.history['val_loss']\n",
    "epochs = range(0,len(history.history['val_loss']))\n",
    "plt.plot(epochs, loss_train, 'g', label='Training loss')\n",
    "plt.plot(epochs, loss_val, 'b', label='validation loss')\n",
    "plt.title('Training and Validation loss')\n",
    "plt.xlabel('Epochs')\n",
    "plt.ylabel('Loss')\n",
    "plt.legend()\n",
    "plt.show()"
   ]
  }
 ],
 "metadata": {
  "kernelspec": {
   "display_name": "Python 3",
   "language": "python",
   "name": "python3"
  }
 },
 "nbformat": 4,
 "nbformat_minor": 4
}
